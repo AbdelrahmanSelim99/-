{
 "cells": [
  {
   "cell_type": "code",
   "execution_count": 5,
   "id": "ab312503",
   "metadata": {},
   "outputs": [],
   "source": [
    "#Importing the libraries \n",
    "import pandas as pd\n",
    "import numpy as np \n",
    "import matplotlib.pyplot as plt \n",
    "import os \n",
    "#loading the dataset\n",
    "filepath= os.path.join(os.getcwd(),'G4_howell.csv')\n",
    "df=pd.read_csv(filepath)"
   ]
  },
  {
   "cell_type": "code",
   "execution_count": 6,
   "id": "d54f7856",
   "metadata": {},
   "outputs": [],
   "source": [
    "#loading the dataset\n",
    "filepath= os.path.join(os.getcwd(),'G4_howell.csv')\n",
    "df=pd.read_csv(filepath)"
   ]
  },
  {
   "cell_type": "code",
   "execution_count": 7,
   "id": "af21612b",
   "metadata": {},
   "outputs": [
    {
     "data": {
      "text/html": [
       "<div>\n",
       "<style scoped>\n",
       "    .dataframe tbody tr th:only-of-type {\n",
       "        vertical-align: middle;\n",
       "    }\n",
       "\n",
       "    .dataframe tbody tr th {\n",
       "        vertical-align: top;\n",
       "    }\n",
       "\n",
       "    .dataframe thead th {\n",
       "        text-align: right;\n",
       "    }\n",
       "</style>\n",
       "<table border=\"1\" class=\"dataframe\">\n",
       "  <thead>\n",
       "    <tr style=\"text-align: right;\">\n",
       "      <th></th>\n",
       "      <th>sex</th>\n",
       "      <th>age</th>\n",
       "      <th>weight</th>\n",
       "      <th>height</th>\n",
       "      <th>Overweight</th>\n",
       "    </tr>\n",
       "  </thead>\n",
       "  <tbody>\n",
       "    <tr>\n",
       "      <th>0</th>\n",
       "      <td>M</td>\n",
       "      <td>63.28</td>\n",
       "      <td>47.6 kg</td>\n",
       "      <td>160.7</td>\n",
       "      <td>NaN</td>\n",
       "    </tr>\n",
       "    <tr>\n",
       "      <th>1</th>\n",
       "      <td>M</td>\n",
       "      <td>64.50</td>\n",
       "      <td>47.8 kg</td>\n",
       "      <td>151.8</td>\n",
       "      <td>NaN</td>\n",
       "    </tr>\n",
       "    <tr>\n",
       "      <th>2</th>\n",
       "      <td>F</td>\n",
       "      <td>60.28</td>\n",
       "      <td>34.1 kg</td>\n",
       "      <td>140.0</td>\n",
       "      <td>NaN</td>\n",
       "    </tr>\n",
       "    <tr>\n",
       "      <th>3</th>\n",
       "      <td>F</td>\n",
       "      <td>61.50</td>\n",
       "      <td>36.5 kg</td>\n",
       "      <td>139.7</td>\n",
       "      <td>NaN</td>\n",
       "    </tr>\n",
       "    <tr>\n",
       "      <th>4</th>\n",
       "      <td>F</td>\n",
       "      <td>65.28</td>\n",
       "      <td>31.9 kg</td>\n",
       "      <td>136.5</td>\n",
       "      <td>NaN</td>\n",
       "    </tr>\n",
       "  </tbody>\n",
       "</table>\n",
       "</div>"
      ],
      "text/plain": [
       "  sex    age   weight  height  Overweight\n",
       "0   M  63.28  47.6 kg   160.7         NaN\n",
       "1   M  64.50  47.8 kg   151.8         NaN\n",
       "2   F  60.28  34.1 kg   140.0         NaN\n",
       "3   F  61.50  36.5 kg   139.7         NaN\n",
       "4   F  65.28  31.9 kg   136.5         NaN"
      ]
     },
     "execution_count": 7,
     "metadata": {},
     "output_type": "execute_result"
    }
   ],
   "source": [
    "#Showing the first 5 values \n",
    "df.head()"
   ]
  },
  {
   "cell_type": "code",
   "execution_count": 8,
   "id": "97d8f4cc",
   "metadata": {},
   "outputs": [
    {
     "data": {
      "text/html": [
       "<div>\n",
       "<style scoped>\n",
       "    .dataframe tbody tr th:only-of-type {\n",
       "        vertical-align: middle;\n",
       "    }\n",
       "\n",
       "    .dataframe tbody tr th {\n",
       "        vertical-align: top;\n",
       "    }\n",
       "\n",
       "    .dataframe thead th {\n",
       "        text-align: right;\n",
       "    }\n",
       "</style>\n",
       "<table border=\"1\" class=\"dataframe\">\n",
       "  <thead>\n",
       "    <tr style=\"text-align: right;\">\n",
       "      <th></th>\n",
       "      <th>sex</th>\n",
       "      <th>age</th>\n",
       "      <th>weight</th>\n",
       "      <th>height</th>\n",
       "      <th>Overweight</th>\n",
       "    </tr>\n",
       "  </thead>\n",
       "  <tbody>\n",
       "    <tr>\n",
       "      <th>94</th>\n",
       "      <td>M</td>\n",
       "      <td>19.81</td>\n",
       "      <td>NaN</td>\n",
       "      <td>146.7</td>\n",
       "      <td>NaN</td>\n",
       "    </tr>\n",
       "    <tr>\n",
       "      <th>95</th>\n",
       "      <td>F</td>\n",
       "      <td>17.81</td>\n",
       "      <td>44.7</td>\n",
       "      <td>157.5</td>\n",
       "      <td>NaN</td>\n",
       "    </tr>\n",
       "    <tr>\n",
       "      <th>96</th>\n",
       "      <td>M</td>\n",
       "      <td>12.56</td>\n",
       "      <td>22</td>\n",
       "      <td>127.0</td>\n",
       "      <td>NaN</td>\n",
       "    </tr>\n",
       "    <tr>\n",
       "      <th>97</th>\n",
       "      <td>M</td>\n",
       "      <td>14.11</td>\n",
       "      <td>24.3</td>\n",
       "      <td>129.5</td>\n",
       "      <td>NaN</td>\n",
       "    </tr>\n",
       "    <tr>\n",
       "      <th>98</th>\n",
       "      <td>M</td>\n",
       "      <td>13.81</td>\n",
       "      <td>24.5</td>\n",
       "      <td>128.3</td>\n",
       "      <td>NaN</td>\n",
       "    </tr>\n",
       "  </tbody>\n",
       "</table>\n",
       "</div>"
      ],
      "text/plain": [
       "   sex    age weight  height  Overweight\n",
       "94   M  19.81    NaN   146.7         NaN\n",
       "95   F  17.81   44.7   157.5         NaN\n",
       "96   M  12.56     22   127.0         NaN\n",
       "97   M  14.11   24.3   129.5         NaN\n",
       "98   M  13.81   24.5   128.3         NaN"
      ]
     },
     "execution_count": 8,
     "metadata": {},
     "output_type": "execute_result"
    }
   ],
   "source": [
    "#Showing the last 5 values \n",
    "df.tail()"
   ]
  },
  {
   "cell_type": "code",
   "execution_count": 9,
   "id": "79b278bf",
   "metadata": {},
   "outputs": [
    {
     "data": {
      "text/plain": [
       "(99, 5)"
      ]
     },
     "execution_count": 9,
     "metadata": {},
     "output_type": "execute_result"
    }
   ],
   "source": [
    "#Checking for the shape of the Values \n",
    "df.shape"
   ]
  },
  {
   "cell_type": "code",
   "execution_count": 10,
   "id": "cda70232",
   "metadata": {},
   "outputs": [
    {
     "name": "stdout",
     "output_type": "stream",
     "text": [
      "<class 'pandas.core.frame.DataFrame'>\n",
      "RangeIndex: 99 entries, 0 to 98\n",
      "Data columns (total 5 columns):\n",
      " #   Column      Non-Null Count  Dtype  \n",
      "---  ------      --------------  -----  \n",
      " 0   sex         99 non-null     object \n",
      " 1   age         99 non-null     float64\n",
      " 2   weight      89 non-null     object \n",
      " 3   height      99 non-null     float64\n",
      " 4   Overweight  0 non-null      float64\n",
      "dtypes: float64(3), object(2)\n",
      "memory usage: 4.0+ KB\n"
     ]
    }
   ],
   "source": [
    "#Getting some stats\n",
    "df.info()"
   ]
  },
  {
   "cell_type": "code",
   "execution_count": 11,
   "id": "331df7f2",
   "metadata": {},
   "outputs": [
    {
     "data": {
      "text/html": [
       "<div>\n",
       "<style scoped>\n",
       "    .dataframe tbody tr th:only-of-type {\n",
       "        vertical-align: middle;\n",
       "    }\n",
       "\n",
       "    .dataframe tbody tr th {\n",
       "        vertical-align: top;\n",
       "    }\n",
       "\n",
       "    .dataframe thead th {\n",
       "        text-align: right;\n",
       "    }\n",
       "</style>\n",
       "<table border=\"1\" class=\"dataframe\">\n",
       "  <thead>\n",
       "    <tr style=\"text-align: right;\">\n",
       "      <th></th>\n",
       "      <th>age</th>\n",
       "      <th>height</th>\n",
       "      <th>Overweight</th>\n",
       "    </tr>\n",
       "  </thead>\n",
       "  <tbody>\n",
       "    <tr>\n",
       "      <th>count</th>\n",
       "      <td>99.000000</td>\n",
       "      <td>99.000000</td>\n",
       "      <td>0.0</td>\n",
       "    </tr>\n",
       "    <tr>\n",
       "      <th>mean</th>\n",
       "      <td>31.017374</td>\n",
       "      <td>142.256566</td>\n",
       "      <td>NaN</td>\n",
       "    </tr>\n",
       "    <tr>\n",
       "      <th>std</th>\n",
       "      <td>18.820718</td>\n",
       "      <td>17.767404</td>\n",
       "      <td>NaN</td>\n",
       "    </tr>\n",
       "    <tr>\n",
       "      <th>min</th>\n",
       "      <td>3.870000</td>\n",
       "      <td>86.400000</td>\n",
       "      <td>NaN</td>\n",
       "    </tr>\n",
       "    <tr>\n",
       "      <th>25%</th>\n",
       "      <td>14.690000</td>\n",
       "      <td>133.150000</td>\n",
       "      <td>NaN</td>\n",
       "    </tr>\n",
       "    <tr>\n",
       "      <th>50%</th>\n",
       "      <td>29.500000</td>\n",
       "      <td>146.700000</td>\n",
       "      <td>NaN</td>\n",
       "    </tr>\n",
       "    <tr>\n",
       "      <th>75%</th>\n",
       "      <td>44.565000</td>\n",
       "      <td>153.800000</td>\n",
       "      <td>NaN</td>\n",
       "    </tr>\n",
       "    <tr>\n",
       "      <th>max</th>\n",
       "      <td>73.500000</td>\n",
       "      <td>171.500000</td>\n",
       "      <td>NaN</td>\n",
       "    </tr>\n",
       "  </tbody>\n",
       "</table>\n",
       "</div>"
      ],
      "text/plain": [
       "             age      height  Overweight\n",
       "count  99.000000   99.000000         0.0\n",
       "mean   31.017374  142.256566         NaN\n",
       "std    18.820718   17.767404         NaN\n",
       "min     3.870000   86.400000         NaN\n",
       "25%    14.690000  133.150000         NaN\n",
       "50%    29.500000  146.700000         NaN\n",
       "75%    44.565000  153.800000         NaN\n",
       "max    73.500000  171.500000         NaN"
      ]
     },
     "execution_count": 11,
     "metadata": {},
     "output_type": "execute_result"
    }
   ],
   "source": [
    "df.describe()"
   ]
  },
  {
   "cell_type": "code",
   "execution_count": 12,
   "id": "0adf98c3",
   "metadata": {},
   "outputs": [
    {
     "data": {
      "text/plain": [
       "F    57\n",
       "M    42\n",
       "Name: sex, dtype: int64"
      ]
     },
     "execution_count": 12,
     "metadata": {},
     "output_type": "execute_result"
    }
   ],
   "source": [
    "#How many Males and females \n",
    "df['sex'].value_counts()"
   ]
  },
  {
   "cell_type": "code",
   "execution_count": 13,
   "id": "7a7aa8db",
   "metadata": {},
   "outputs": [
    {
     "data": {
      "text/plain": [
       "sex            0\n",
       "age            0\n",
       "weight        10\n",
       "height         0\n",
       "Overweight    99\n",
       "dtype: int64"
      ]
     },
     "execution_count": 13,
     "metadata": {},
     "output_type": "execute_result"
    }
   ],
   "source": [
    "# Checking for the Null Values \n",
    "df.isna().sum()"
   ]
  },
  {
   "cell_type": "code",
   "execution_count": 21,
   "id": "bb6a9d2a",
   "metadata": {},
   "outputs": [
    {
     "data": {
      "text/html": [
       "<div>\n",
       "<style scoped>\n",
       "    .dataframe tbody tr th:only-of-type {\n",
       "        vertical-align: middle;\n",
       "    }\n",
       "\n",
       "    .dataframe tbody tr th {\n",
       "        vertical-align: top;\n",
       "    }\n",
       "\n",
       "    .dataframe thead th {\n",
       "        text-align: right;\n",
       "    }\n",
       "</style>\n",
       "<table border=\"1\" class=\"dataframe\">\n",
       "  <thead>\n",
       "    <tr style=\"text-align: right;\">\n",
       "      <th></th>\n",
       "      <th>sex</th>\n",
       "      <th>age</th>\n",
       "      <th>weight</th>\n",
       "      <th>height</th>\n",
       "      <th>Overweight</th>\n",
       "    </tr>\n",
       "  </thead>\n",
       "  <tbody>\n",
       "    <tr>\n",
       "      <th>0</th>\n",
       "      <td>M</td>\n",
       "      <td>63.28</td>\n",
       "      <td>47.6</td>\n",
       "      <td>160.7</td>\n",
       "      <td>NaN</td>\n",
       "    </tr>\n",
       "    <tr>\n",
       "      <th>1</th>\n",
       "      <td>M</td>\n",
       "      <td>64.50</td>\n",
       "      <td>47.8</td>\n",
       "      <td>151.8</td>\n",
       "      <td>NaN</td>\n",
       "    </tr>\n",
       "    <tr>\n",
       "      <th>2</th>\n",
       "      <td>F</td>\n",
       "      <td>60.28</td>\n",
       "      <td>34.1</td>\n",
       "      <td>140.0</td>\n",
       "      <td>NaN</td>\n",
       "    </tr>\n",
       "    <tr>\n",
       "      <th>3</th>\n",
       "      <td>F</td>\n",
       "      <td>61.50</td>\n",
       "      <td>36.5</td>\n",
       "      <td>139.7</td>\n",
       "      <td>NaN</td>\n",
       "    </tr>\n",
       "    <tr>\n",
       "      <th>4</th>\n",
       "      <td>F</td>\n",
       "      <td>65.28</td>\n",
       "      <td>31.9</td>\n",
       "      <td>136.5</td>\n",
       "      <td>NaN</td>\n",
       "    </tr>\n",
       "    <tr>\n",
       "      <th>...</th>\n",
       "      <td>...</td>\n",
       "      <td>...</td>\n",
       "      <td>...</td>\n",
       "      <td>...</td>\n",
       "      <td>...</td>\n",
       "    </tr>\n",
       "    <tr>\n",
       "      <th>94</th>\n",
       "      <td>M</td>\n",
       "      <td>19.81</td>\n",
       "      <td>NaN</td>\n",
       "      <td>146.7</td>\n",
       "      <td>NaN</td>\n",
       "    </tr>\n",
       "    <tr>\n",
       "      <th>95</th>\n",
       "      <td>F</td>\n",
       "      <td>17.81</td>\n",
       "      <td>44.7</td>\n",
       "      <td>157.5</td>\n",
       "      <td>NaN</td>\n",
       "    </tr>\n",
       "    <tr>\n",
       "      <th>96</th>\n",
       "      <td>M</td>\n",
       "      <td>12.56</td>\n",
       "      <td>22</td>\n",
       "      <td>127.0</td>\n",
       "      <td>NaN</td>\n",
       "    </tr>\n",
       "    <tr>\n",
       "      <th>97</th>\n",
       "      <td>M</td>\n",
       "      <td>14.11</td>\n",
       "      <td>24.3</td>\n",
       "      <td>129.5</td>\n",
       "      <td>NaN</td>\n",
       "    </tr>\n",
       "    <tr>\n",
       "      <th>98</th>\n",
       "      <td>M</td>\n",
       "      <td>13.81</td>\n",
       "      <td>24.5</td>\n",
       "      <td>128.3</td>\n",
       "      <td>NaN</td>\n",
       "    </tr>\n",
       "  </tbody>\n",
       "</table>\n",
       "<p>99 rows × 5 columns</p>\n",
       "</div>"
      ],
      "text/plain": [
       "   sex    age weight  height  Overweight\n",
       "0    M  63.28   47.6   160.7         NaN\n",
       "1    M  64.50   47.8   151.8         NaN\n",
       "2    F  60.28   34.1   140.0         NaN\n",
       "3    F  61.50   36.5   139.7         NaN\n",
       "4    F  65.28   31.9   136.5         NaN\n",
       "..  ..    ...    ...     ...         ...\n",
       "94   M  19.81    NaN   146.7         NaN\n",
       "95   F  17.81   44.7   157.5         NaN\n",
       "96   M  12.56     22   127.0         NaN\n",
       "97   M  14.11   24.3   129.5         NaN\n",
       "98   M  13.81   24.5   128.3         NaN\n",
       "\n",
       "[99 rows x 5 columns]"
      ]
     },
     "execution_count": 21,
     "metadata": {},
     "output_type": "execute_result"
    }
   ],
   "source": [
    "#First we need to remove the Kg part to make the cloumn Numeric\n",
    "\n",
    "df['weight'] = df['weight'].str.replace(' kg', '')\n",
    "df"
   ]
  },
  {
   "cell_type": "code",
   "execution_count": 31,
   "id": "2cf5f02d",
   "metadata": {},
   "outputs": [],
   "source": [
    "#Second we Impute the missing Values Which is 10 by using the avg mean Values\n",
    "\n",
    "df['weight'] = df['weight'].astype(float)\n",
    "\n",
    "# Calculate the mean of the column\n",
    "mean_value = df['weight'].mean()\n",
    "\n",
    "# Impute the missing values with the mean\n",
    "df['weight'].fillna(mean_value, inplace=True)\n",
    "df[\"weight\"] = df[\"weight\"].round(2)"
   ]
  },
  {
   "cell_type": "code",
   "execution_count": 42,
   "id": "8ec9bebf",
   "metadata": {},
   "outputs": [],
   "source": [
    "#Overweight Column Now \n",
    "df[\"Overweight\"] = df[\"weight\"] / (df[\"height\"] ** 2) * 10000"
   ]
  },
  {
   "cell_type": "code",
   "execution_count": 40,
   "id": "899852c5",
   "metadata": {},
   "outputs": [
    {
     "data": {
      "image/png": "[encoded data removed]",
      "text/plain": [
       "<Figure size 640x480 with 1 Axes>"
      ]
     },
     "metadata": {},
     "output_type": "display_data"
    }
   ],
   "source": [
    "#Viz Part \n",
    "#Pie chart to the Sex Column \n",
    "# Count the occurrences of each category in the \"sex\" column\n",
    "sex_counts = df[\"sex\"].value_counts()\n",
    "\n",
    "# Create a pie chart\n",
    "plt.pie(sex_counts, labels=sex_counts.index, autopct='%1.1f%%')\n",
    "\n",
    "# Add a title\n",
    "plt.title(\"Distribution of Sex\")\n",
    "\n",
    "# Display the chart\n",
    "plt.show()"
   ]
  },
  {
   "cell_type": "code",
   "execution_count": 50,
   "id": "1bc20651",
   "metadata": {},
   "outputs": [
    {
     "name": "stdout",
     "output_type": "stream",
     "text": [
      "The most overweight person is 8.81 years old with an overweight value of 30.286461507043786.\n"
     ]
    }
   ],
   "source": [
    "#Age According to the Over Weight\n",
    "sorted_df = df.sort_values(\"Overweight\", ascending=False)\n",
    "\n",
    "# Get the first row, which will have the highest value in the \"Overweight\" column\n",
    "most_overweight_person = sorted_df.iloc[0]\n",
    "\n",
    "age = most_overweight_person[\"age\"]\n",
    "overweight = most_overweight_person[\"Overweight\"]\n",
    "print(\"The most overweight person is {} years old with an overweight value of {}.\".format(age, overweight))"
   ]
  },
  {
   "cell_type": "code",
   "execution_count": 52,
   "id": "50f01a24",
   "metadata": {},
   "outputs": [
    {
     "data": {
      "image/png": "[encoded data removed]",
      "text/plain": [
       "<Figure size 640x480 with 1 Axes>"
      ]
     },
     "metadata": {},
     "output_type": "display_data"
    }
   ],
   "source": [
    "#Sort the Values according to the overweight and age \n",
    "# Sort the DataFrame by \"Overweight\" and \"Age\" columns\n",
    "sorted_df = df.sort_values([\"Overweight\", \"age\"])\n",
    "\n",
    "# Get the sorted age and overweight values\n",
    "ages = sorted_df[\"age\"]\n",
    "overweights = sorted_df[\"Overweight\"]\n",
    "\n",
    "# Plot the scatter plot\n",
    "plt.scatter(ages, overweights)\n",
    "\n",
    "# Set labels and title\n",
    "plt.xlabel(\"Age\")\n",
    "plt.ylabel(\"Overweight\")\n",
    "plt.title(\"Overweight vs Age\")\n",
    "\n",
    "# Display the plot\n",
    "plt.show()"
   ]
  },
  {
   "cell_type": "code",
   "execution_count": 58,
   "id": "7bbc5346",
   "metadata": {},
   "outputs": [
    {
     "data": {
      "image/png": "[encoded data removed]",
      "text/plain": [
       "<Figure size 1000x600 with 1 Axes>"
      ]
     },
     "metadata": {},
     "output_type": "display_data"
    }
   ],
   "source": [
    "import matplotlib.pyplot as plt\n",
    "\n",
    "# Set the figure size\n",
    "plt.figure(figsize=(10, 6))\n",
    "\n",
    "# Create the bar chart\n",
    "plt.bar(df[\"weight\"], df[\"height\"], color=\"blue\", alpha=0.7)\n",
    "\n",
    "# Set labels and title\n",
    "plt.xlabel(\"Weight\")\n",
    "plt.ylabel(\"Height\")\n",
    "plt.title(\"Comparison of Height and Weight\")\n",
    "\n",
    "# Display the plot\n",
    "plt.show()\n"
   ]
  },
  {
   "cell_type": "code",
   "execution_count": 63,
   "id": "c44b6c92",
   "metadata": {},
   "outputs": [
    {
     "data": {
      "image/png": "[encoded data removed]",
      "text/plain": [
       "<Figure size 640x480 with 1 Axes>"
      ]
     },
     "metadata": {},
     "output_type": "display_data"
    }
   ],
   "source": [
    "# Filter the data for males and females\n",
    "male_data = df[df[\"sex\"] == \"M\"]\n",
    "female_data = df[df[\"sex\"] == \"F\"]\n",
    "\n",
    "# Find the highest height for males and females\n",
    "max_height_male = male_data[\"height\"].max()\n",
    "max_height_female = female_data[\"height\"].max()\n",
    "\n",
    "# Create a bar chart to display the highest heights\n",
    "plt.bar([\"M\", \"F\"], [max_height_male, max_height_female], color=[\"blue\", \"pink\"])\n",
    "\n",
    "# Add height values on top of the bars\n",
    "plt.text(0, max_height_male, str(max_height_male), ha=\"center\", va=\"bottom\")\n",
    "plt.text(1, max_height_female, str(max_height_female), ha=\"center\", va=\"bottom\")\n",
    "\n",
    "# Set labels and title\n",
    "plt.xlabel(\"Sex\")\n",
    "plt.ylabel(\"Height\")\n",
    "plt.title(\"Highest Height for Males and Females\")\n",
    "\n",
    "# Display the plot\n",
    "plt.show()\n"
   ]
  },
  {
   "cell_type": "code",
   "execution_count": null,
   "id": "ef9dc078",
   "metadata": {},
   "outputs": [],
   "source": []
  }
 ],
 "metadata": {
  "kernelspec": {
   "display_name": "Python 3 (ipykernel)",
   "language": "python",
   "name": "python3"
  },
  "language_info": {
   "codemirror_mode": {
    "name": "ipython",
    "version": 3
   },
   "file_extension": ".py",
   "mimetype": "text/x-python",
   "name": "python",
   "nbconvert_exporter": "python",
   "pygments_lexer": "ipython3",
   "version": "3.10.9"
  }
 },
 "nbformat": 4,
 "nbformat_minor": 5
}
